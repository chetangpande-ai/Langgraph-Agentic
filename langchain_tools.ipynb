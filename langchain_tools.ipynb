{
 "cells": [
  {
   "cell_type": "code",
   "execution_count": 1,
   "id": "649a4ee9",
   "metadata": {},
   "outputs": [],
   "source": [
    "from langchain_community.tools import WikipediaQueryRun"
   ]
  },
  {
   "cell_type": "code",
   "execution_count": 2,
   "id": "2ca5ca53",
   "metadata": {},
   "outputs": [],
   "source": [
    "from langchain_community.utilities import WikipediaAPIWrapper"
   ]
  },
  {
   "cell_type": "code",
   "execution_count": 3,
   "id": "f7060b73",
   "metadata": {},
   "outputs": [],
   "source": [
    "api_wrapper=WikipediaAPIWrapper(top_k_results=5,doc_content_chars_max= 500)"
   ]
  },
  {
   "cell_type": "code",
   "execution_count": 4,
   "id": "0e11bd37",
   "metadata": {},
   "outputs": [
    {
     "data": {
      "text/plain": [
       "{'query': {'description': 'query to look up on wikipedia',\n",
       "  'title': 'Query',\n",
       "  'type': 'string'}}"
      ]
     },
     "execution_count": 4,
     "metadata": {},
     "output_type": "execute_result"
    }
   ],
   "source": [
    "wiki_tool=WikipediaQueryRun(api_wrapper=api_wrapper)\n",
    "wiki_tool.name\n",
    "wiki_tool.description\n",
    "wiki_tool.args"
   ]
  },
  {
   "cell_type": "code",
   "execution_count": 5,
   "id": "67cb5194",
   "metadata": {},
   "outputs": [
    {
     "data": {
      "text/plain": [
       "'Page: Elon Musk\\nSummary: Elon Reeve Musk ( EE-lon; born June 28, 1971) is an international businessman and entrepreneur known for his leadership of Tesla, SpaceX, X (formerly Twitter), and the Department of Government Efficiency (DOGE). Musk has been the wealthiest person in the world since 2021; as of May 2025, Forbes estimates his net worth to be US$424.7 billion.\\nBorn to a wealthy family in Pretoria, South Africa, Musk emigrated in 1989 to Canada; he had obtained Canadian citizenship at birth'"
      ]
     },
     "execution_count": 5,
     "metadata": {},
     "output_type": "execute_result"
    }
   ],
   "source": [
    "wiki_tool.run({\"query\":\"elon musk\"})"
   ]
  },
  {
   "cell_type": "markdown",
   "id": "cc945d4e",
   "metadata": {},
   "source": [
    "'Page: Elon Musk\\nSummary: Elon Reeve Musk ( EE-lon; born June 28, 1971) is an international businessman and entrepreneur known for his leadership of Tesla, SpaceX, X (formerly Twitter), and the Department of Government Efficiency (DOGE). Musk has been the wealthiest person in the world since 2021; as of May 2025, Forbes estimates his net worth to be US$424.7 billion.\\nBorn to a wealthy family in Pretoria, South Africa, Musk emigrated in 1989 to Canada; he had obtained Canadian citizenship at birth'"
   ]
  },
  {
   "cell_type": "code",
   "execution_count": 6,
   "id": "0bb0fd52",
   "metadata": {},
   "outputs": [
    {
     "name": "stderr",
     "output_type": "stream",
     "text": [
      "d:\\Chetan Pande\\AI-ML-2025\\agentic-ai-2.0\\Langgraph- Project\\venv\\lib\\site-packages\\wikipedia\\wikipedia.py:389: GuessedAtParserWarning: No parser was explicitly specified, so I'm using the best available HTML parser for this system (\"lxml\"). This usually isn't a problem, but if you run this code on another system, or in a different virtual environment, it may use a different parser and behave differently.\n",
      "\n",
      "The code that caused this warning is on line 389 of the file d:\\Chetan Pande\\AI-ML-2025\\agentic-ai-2.0\\Langgraph- Project\\venv\\lib\\site-packages\\wikipedia\\wikipedia.py. To get rid of this warning, pass the additional argument 'features=\"lxml\"' to the BeautifulSoup constructor.\n",
      "\n",
      "  lis = BeautifulSoup(html).find_all('li')\n"
     ]
    },
    {
     "data": {
      "text/plain": [
       "\"Page: Royal Challengers Bengaluru\\nSummary: Royal Challengers Bengaluru, formerly Royal Challengers Bangalore, also known as RCB, are a professional Twenty20 cricket team based in Bengaluru, Karnataka, that competes in the Indian Premier League (IPL). Founded in 2008 by United Spirits, the team's home ground is M. Chinnaswamy Stadium. They won their first title in 2025. The team finished as the runners-up on three occasions: in 2009, 2011, and 2016. They have also qualified for the playoffs in te\""
      ]
     },
     "execution_count": 6,
     "metadata": {},
     "output_type": "execute_result"
    }
   ],
   "source": [
    "wiki_tool.run(\"RCB\")"
   ]
  },
  {
   "cell_type": "code",
   "execution_count": 7,
   "id": "fd70ed2c",
   "metadata": {},
   "outputs": [
    {
     "data": {
      "text/plain": [
       "{'query': {'title': 'Query', 'type': 'string'}}"
      ]
     },
     "execution_count": 7,
     "metadata": {},
     "output_type": "execute_result"
    }
   ],
   "source": [
    "from langchain_community.tools import YouTubeSearchTool\n",
    "yt_tool=YouTubeSearchTool()\n",
    "yt_tool.name\n",
    "yt_tool.description\n",
    "yt_tool.args\n"
   ]
  },
  {
   "cell_type": "code",
   "execution_count": 8,
   "id": "b0c1917a",
   "metadata": {},
   "outputs": [
    {
     "data": {
      "text/plain": [
       "\"['https://www.youtube.com/watch?v=30kGsNb8jPc&pp=ygUOZ2l0aHViIGNvcGlsb3Q%3D', 'https://www.youtube.com/watch?v=xf65vxjNWdk&pp=ygUOZ2l0aHViIGNvcGlsb3Q%3D']\""
      ]
     },
     "execution_count": 8,
     "metadata": {},
     "output_type": "execute_result"
    }
   ],
   "source": [
    "yt_tool.run(\"github copilot\")"
   ]
  },
  {
   "cell_type": "code",
   "execution_count": 2,
   "id": "ae399cea",
   "metadata": {},
   "outputs": [
    {
     "data": {
      "text/plain": [
       "[{'title': \"The $100000 H-1B Fee - What We Know and What We Don't\",\n",
       "  'url': 'https://www.callaborlaw.com/blog/the-100000-h-1b-fee-what-we-know-and-what-we-dont',\n",
       "  'content': \"On Friday September 19, 2025, President Trump signed an Executive Order (“EO”) mandating that as of Monday, September 22, 2025, foreign nationals seeking to enter the Unites States as H-1B temporary workers must pay a $100,000 fee. The next day, US Citizenship & Immigration Services and Customs and Border Protection (“CBP”) issued a memorandum limiting the fee to foreign nationals seeking entry using H-1B petitions filed on or after September 21 2025.\\n\\nHere's what we know: [...] Our Team### Find An Employment Attorney\\n\\n \\nSearch View All  \\n   Our News\\n\\n### Leading The Conversation on California Labor & Employment Law\\n\\n       The $100,000 H-1B Fee - What We Know and What We Don’t\\n       California’s AB 288: A Bold Attempt to Give PERB Jurisdiction Over Private Employers\\n\\nView All\\n\\n### Recent News\",\n",
       "  'score': 0.69622743},\n",
       " {'title': 'Trump Administration Signs Proclamation Declaring New $100,000 ...',\n",
       "  'url': 'https://www.boundless.com/blog/trump-administration-to-propose-new-100000-fee-for-h-1b-visa-applications/',\n",
       "  'content': 'Client Stories\\n       Why Trust Boundless\\n       Immigration Attorneys\\n\\n   News & Reports\\n   About Us\\n   Log In\\n\\nTrump Administration Signs Proclamation Declaring New $100,000 Fee for H-1B Visa Applications\\n\\nThe new policy could reshape U.S. hiring, limit opportunities for skilled immigrants, and raise costs for employers\\n\\n   Written By: Rayna WachsRayna Wachs is a Content Strategist and Producer at Boundless Immigration. \\n   Updated September 24, 2025 [...] Current H-1B holders who are in the U.S. as of September 21, 2025, 12:01 AM ET.\\n   Current H-1B holders who have valid H-1B visa stamps and are traveling outside the U.S. within their visa’s validity period.\\n   Individuals who filed H-1B petitions before September 21, 2025, 12:01 AM ET. This includes those seeking visa issuance and/or entry to the U.S. (per a new DOS alert). [...] For international professionals, especially in STEM fields, the new $100,000 fee could make the H-1B visa inaccessible. Early-career workers, recent graduates, and those from industries with lower salaries may see U.S. work opportunities vanish, as employers may reserve H-1Bs for only the most critical or senior roles. In addition, students on Optional Practical Training (OPT) hoping to transition to H-1B status could face a much more selective job market as employers rethink sponsorship.',\n",
       "  'score': 0.6760432},\n",
       " {'title': 'Executive Order Related to H-1B Nonimmigrants Issued',\n",
       "  'url': 'https://www.cmu.edu/oie/news-and-events/2025-2026/september/h1b-executive-order.html',\n",
       "  'content': 'Division of Enrollment Management›Office of International Education›News & Updates› 2025-2026 › September › Executive Order Related to H-1B Nonimmigrants Issued \\n\\n_September 22, 2025_\\nExecutive Order Related to H-1B Nonimmigrants Issued\\n\\n_Note: This news item was originally posted Sept. 20, 2025; it was updated with additional information and reposted Sept. 22, 2025._ [...] President Donald Trump signed an executive order Sept.19, which places a \"restriction on entry\" of certain (H-1B) nonimmigrant workers and a new $100,000 fee. The executive order went into effect at 12:01 a.m., Sept. 21, 2025, and will remain in effect through Sept. 21, 2026, unless extended or changed. [...] U.S. Citizenship and Immigration Services (USCIS) and U.S. Customs and Border Protection (CBP) issued memoranda clarifying the executive order Sept. 20, and the U.S. State Department posted an H-1B FAQ Sept. 21.',\n",
       "  'score': 0.67166495},\n",
       " {'title': \"Here's what immigration attorneys say about Trump's $100000 H-1B ...\",\n",
       "  'url': 'https://www.cbsnews.com/news/trump-h1b-visa-faq-100000-fee-uscis/',\n",
       "  'content': \"On Tuesday, the Trump administration published a proposal to change how H-1B visas are allotted, switching from a randomized lottery to a system that would favor immigrants with higher skills and incomes.\\n\\nCBS News spoke with attorneys and other sources about the new policy — here's what to know.\\n\\nWho pays the $100,000 fee? [...] After the White House outlined the new policy on Friday, some tech companies including Google and Microsoft this weekend instructed H-1B employees who were traveling outside the U.S. to return immediately, expressing concern they might not be allowed to re-enter without the $100,000 payment, according to workers and immigration lawyers. [...] Updated on: September 23, 2025 / 11:09 AM EDT / CBS News\\n\\n   \\n   \\n   \\n\\nHow the new $100,000 H-1B visa fee works \\n\\nImage 2\\n\\nBreaking down how the new $100,000 H-1B visa application fee works 03:51\\n\\nThe Trump administration's new $100,000 fee for H-1B visa applications is sowing confusion among some immigrant workers and their employers, including whether it's safe for current holders of the visa to travel outside the U.S.\",\n",
       "  'score': 0.6429039},\n",
       " {'title': 'Major Changes to H-1B Visa Program - Jackson Walker',\n",
       "  'url': 'https://www.jw.com/news/insights-h1b-visa-program-proclamation/',\n",
       "  'content': 'CareersExperienced AttorneysLaw StudentsBusiness Professionals & Paralegals \\n\\nJW News =======\\n\\nMajor Changes to H-1B Visa Program – $100,000 Fee for New Petitions & Employment Considerations\\n\\nSeptember 23, 2025 | Insights\\n\\n  \\n\\nShare this article: and public companies who employ individuals that need U.S. visa options to grow and expand their business; families who wish to live in the U.S. temporarily and/ permanently; and persons who wish to acquire U.S. citizenship.\\n\\n  \\n\\nIn This Story',\n",
       "  'score': 0.638588}]"
      ]
     },
     "execution_count": 2,
     "metadata": {},
     "output_type": "execute_result"
    }
   ],
   "source": [
    "from langchain_community.tools.tavily_search import TavilySearchResults\n",
    "import os\n",
    "TAVILY_API_KEY=os.getenv(\"TAVILY_API_KEY\")\n",
    "tavily_tool=TavilySearchResults(tavily_api_key=TAVILY_API_KEY)\n",
    "tavily_tool.name\n",
    "tavily_tool.run(\"H1B news\")"
   ]
  }
 ],
 "metadata": {
  "kernelspec": {
   "display_name": "Python 3",
   "language": "python",
   "name": "python3"
  },
  "language_info": {
   "codemirror_mode": {
    "name": "ipython",
    "version": 3
   },
   "file_extension": ".py",
   "mimetype": "text/x-python",
   "name": "python",
   "nbconvert_exporter": "python",
   "pygments_lexer": "ipython3",
   "version": "3.10.18"
  }
 },
 "nbformat": 4,
 "nbformat_minor": 5
}
