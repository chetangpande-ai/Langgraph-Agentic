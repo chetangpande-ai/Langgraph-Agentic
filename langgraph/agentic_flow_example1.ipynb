{
 "cells": [
  {
   "cell_type": "code",
   "execution_count": 1,
   "id": "7e50f5b9",
   "metadata": {},
   "outputs": [
    {
     "name": "stdout",
     "output_type": "stream",
     "text": [
      "test\n"
     ]
    }
   ],
   "source": [
    "print(\"test\")"
   ]
  },
  {
   "cell_type": "markdown",
   "id": "7c23fa9f",
   "metadata": {},
   "source": [
    "# Configure the model"
   ]
  },
  {
   "cell_type": "code",
   "execution_count": 2,
   "id": "09e8b7ca",
   "metadata": {},
   "outputs": [
    {
     "name": "stderr",
     "output_type": "stream",
     "text": [
      "d:\\Chetan Pande\\AI-ML-2025\\agentic-ai-2.0\\Langgraph-Agentic\\venv\\lib\\site-packages\\tqdm\\auto.py:21: TqdmWarning: IProgress not found. Please update jupyter and ipywidgets. See https://ipywidgets.readthedocs.io/en/stable/user_install.html\n",
      "  from .autonotebook import tqdm as notebook_tqdm\n"
     ]
    }
   ],
   "source": [
    "from langchain_google_genai import ChatGoogleGenerativeAI\n",
    "model=ChatGoogleGenerativeAI(model=\"gemini-2.5-flash\")\n",
    "#output=model.invoke(\"where is pune located ?\")\n",
    "#print(output.content)"
   ]
  },
  {
   "cell_type": "markdown",
   "id": "885d0fb4",
   "metadata": {},
   "source": [
    "# Config the embedding model"
   ]
  },
  {
   "cell_type": "code",
   "execution_count": 3,
   "id": "adbd5555",
   "metadata": {},
   "outputs": [
    {
     "data": {
      "text/plain": [
       "1024"
      ]
     },
     "execution_count": 3,
     "metadata": {},
     "output_type": "execute_result"
    }
   ],
   "source": [
    "from langchain_huggingface import HuggingFaceEmbeddings\n",
    "\n",
    "embeddings=HuggingFaceEmbeddings(model_name=\"BAAI/bge-large-en-v1.5\")\n",
    "len(embeddings.embed_query(\"hello\"))"
   ]
  },
  {
   "cell_type": "code",
   "execution_count": 4,
   "id": "6468db58",
   "metadata": {},
   "outputs": [],
   "source": [
    "from langchain_community.document_loaders import TextLoader, DirectoryLoader\n",
    "from langchain_community.vectorstores import Chroma\n",
    "from langchain.text_splitter import RecursiveCharacterTextSplitter"
   ]
  },
  {
   "cell_type": "code",
   "execution_count": 5,
   "id": "fbedbc41",
   "metadata": {},
   "outputs": [],
   "source": [
    "loader=DirectoryLoader(\"../data2\",glob=\"./*.txt\",loader_cls=TextLoader)"
   ]
  },
  {
   "cell_type": "code",
   "execution_count": 6,
   "id": "7e6f7c29",
   "metadata": {},
   "outputs": [],
   "source": [
    "docs=loader.load()"
   ]
  },
  {
   "cell_type": "code",
   "execution_count": 7,
   "id": "f91d9001",
   "metadata": {},
   "outputs": [
    {
     "data": {
      "text/plain": [
       "[Document(metadata={'source': '..\\\\data2\\\\usa.txt'}, page_content=\"🇺🇸 Overview of the U.S. Economy\\nThe United States of America possesses the largest economy in the world in terms of nominal GDP, making it the most powerful economic force globally. It operates under a capitalist mixed economy, where the private sector dominates, but the government plays a significant regulatory and fiscal role. With a population of over 335 million people and a high level of technological advancement, the U.S. economy thrives on a foundation of consumer spending, innovation, global trade, and financial services. It has a highly diversified structure with strong sectors in technology, healthcare, finance, real estate, defense, and agriculture.\\n\\nU.S. GDP – Size, Composition, and Global Share\\nAs of 2024, the United States’ nominal GDP is estimated to be around $28 trillion USD, accounting for approximately 25% of the global economy. It ranks #1 in the world by nominal GDP, far ahead of China (which ranks 2nd). The U.S. GDP per capita is also among the highest, hovering around $83,000, which indicates a high standard of living and productivity. In terms of Purchasing Power Parity (PPP), the U.S. ranks second, but nominal GDP is considered more reflective of actual economic size and financial influence.\\n\\nThe GDP is predominantly driven by the services sector, which contributes more than 77% to the total GDP. This includes industries such as finance, insurance, real estate, healthcare, education, and information technology. The industrial sector (manufacturing, construction, mining) makes up around 19%, while agriculture, although technologically advanced and export-oriented, contributes only about 1%. Despite its small share in GDP, U.S. agriculture is globally significant in terms of productivity and exports.\\n\\nGDP Growth Trends and Dynamics\\nHistorically, the U.S. economy has enjoyed consistent long-term growth, averaging around 2-3% annually. Post-pandemic, the economy bounced back strongly, but 2022 and 2023 saw rising inflation due to supply chain issues and stimulus-driven demand. In 2024, the U.S. GDP grew at a modest pace of around 2.1%, as the Federal Reserve’s interest rate hikes aimed at controlling inflation also moderated economic expansion. Consumer spending, which makes up nearly 70% of GDP, remains a dominant force in economic stability.\\n\\nThe U.S. maintains its GDP growth through strong innovation, entrepreneurship, and investment in R&D. With companies like Apple, Google, Amazon, Microsoft, and Tesla leading global markets, the U.S. consistently produces high value across sectors, especially in technology and advanced services. Additionally, the economy benefits from intellectual property exports, financial services, and higher education, all of which contribute significantly to GDP through both domestic and international markets.\\n\\nRole in the Global Economy\\nThe U.S. Dollar (USD) is the global reserve currency, held by over 60% of the world’s central bank reserves. This gives the U.S. an enormous advantage in global trade and borrowing. The U.S. is a key member of international institutions like the World Bank, IMF, G7, G20, and WTO, and plays a central role in setting global economic policy.\\n\\nAs a global innovation hub, the U.S. attracts billions in foreign investment and hosts many of the world's largest and most valuable companies. Its exports include high-tech machinery, aircraft, pharmaceuticals, semiconductors, and financial services, while its imports cover consumer goods, electronics, automobiles, and industrial materials. The trade deficit remains large (around $900 billion in 2024), primarily because the U.S. consumes more than it exports, but its ability to finance this through capital inflows and reserve currency status sustains balance.\\n\\nKey Economic Strengths\\nThe core strength of the U.S. economy lies in its flexible labor market, deep capital markets, technological superiority, and legal system that encourages innovation and property rights. It has a large, highly educated workforce, a diverse immigration pipeline, and access to vast natural resources including oil, gas, coal, and farmland. The presence of top-tier universities and research institutions fuels the knowledge economy, with billions spent annually on R&D—over $700 billion USD, more than any other country.\\n\\nThe U.S. leads in many critical sectors, including software, biotechnology, aerospace, defense, financial services, and media. Its startup ecosystem, especially in Silicon Valley, produces unicorns and tech giants at a scale unmatched globally. Its financial markets—particularly Wall Street—are the most liquid and globally integrated in the world.\\n\\nChallenges and Structural Issues\\nDespite its strength, the U.S. economy faces several serious long-term issues. The national debt has surpassed $34 trillion USD, raising concerns about fiscal sustainability, especially as interest payments alone are growing rapidly. The income and wealth inequality gap has widened, with a small percentage of Americans owning a disproportionate share of wealth. Access to affordable healthcare, housing shortages, and a declining labor force participation in some sectors are additional structural issues.\\n\\nAnother growing concern is political polarization, which often stalls crucial economic reforms and budget agreements, as seen in recurrent debt ceiling crises. The U.S. also faces challenges from global competition, especially from China in areas like AI, semiconductors, and green technology. Moreover, climate change, cybersecurity threats, and geopolitical risks (like Ukraine and Taiwan conflicts) add layers of vulnerability to economic planning.\\n\\nFuture Outlook (2025–2030)\\nLooking forward, the U.S. economy is expected to grow at a moderate pace, powered by innovation in AI, green energy, robotics, biotech, and quantum computing. The Biden administration’s Inflation Reduction Act and CHIPS Act are pumping massive investments into semiconductors, clean energy, and infrastructure. There is a strong push for reshoring of manufacturing, especially in critical sectors like chips, pharmaceuticals, and batteries.\\n\\nHowever, economic leadership will depend on managing the national debt, reforming entitlement programs, upgrading infrastructure, and ensuring the next generation is equipped with digital-age skills. If the U.S. can handle these challenges, it is well-positioned to remain a global economic powerhouse through 2030 and beyond.\\n\\nFinal Summary\\nThe U.S. economy remains the engine of global growth, backed by unmatched innovation, financial dominance, and a strong institutional framework. Its $28 trillion GDP and influence over global finance, trade, and technology make it the centerpiece of the modern economic system. Yet, rising debt, inequality, political gridlock, and competition from emerging powers demand careful policy navigation. If successfully addressed, the U.S. will continue to dominate the global economy well into the future.\")]"
      ]
     },
     "execution_count": 7,
     "metadata": {},
     "output_type": "execute_result"
    }
   ],
   "source": [
    "docs"
   ]
  },
  {
   "cell_type": "code",
   "execution_count": 8,
   "id": "19df5758",
   "metadata": {},
   "outputs": [
    {
     "data": {
      "text/plain": [
       "\"🇺🇸 Overview of the U.S. Economy\\nThe United States of America possesses the largest economy in the world in terms of nominal GDP, making it the most powerful economic force globally. It operates under a capitalist mixed economy, where the private sector dominates, but the government plays a significant regulatory and fiscal role. With a population of over 335 million people and a high level of technological advancement, the U.S. economy thrives on a foundation of consumer spending, innovation, global trade, and financial services. It has a highly diversified structure with strong sectors in technology, healthcare, finance, real estate, defense, and agriculture.\\n\\nU.S. GDP – Size, Composition, and Global Share\\nAs of 2024, the United States’ nominal GDP is estimated to be around $28 trillion USD, accounting for approximately 25% of the global economy. It ranks #1 in the world by nominal GDP, far ahead of China (which ranks 2nd). The U.S. GDP per capita is also among the highest, hovering around $83,000, which indicates a high standard of living and productivity. In terms of Purchasing Power Parity (PPP), the U.S. ranks second, but nominal GDP is considered more reflective of actual economic size and financial influence.\\n\\nThe GDP is predominantly driven by the services sector, which contributes more than 77% to the total GDP. This includes industries such as finance, insurance, real estate, healthcare, education, and information technology. The industrial sector (manufacturing, construction, mining) makes up around 19%, while agriculture, although technologically advanced and export-oriented, contributes only about 1%. Despite its small share in GDP, U.S. agriculture is globally significant in terms of productivity and exports.\\n\\nGDP Growth Trends and Dynamics\\nHistorically, the U.S. economy has enjoyed consistent long-term growth, averaging around 2-3% annually. Post-pandemic, the economy bounced back strongly, but 2022 and 2023 saw rising inflation due to supply chain issues and stimulus-driven demand. In 2024, the U.S. GDP grew at a modest pace of around 2.1%, as the Federal Reserve’s interest rate hikes aimed at controlling inflation also moderated economic expansion. Consumer spending, which makes up nearly 70% of GDP, remains a dominant force in economic stability.\\n\\nThe U.S. maintains its GDP growth through strong innovation, entrepreneurship, and investment in R&D. With companies like Apple, Google, Amazon, Microsoft, and Tesla leading global markets, the U.S. consistently produces high value across sectors, especially in technology and advanced services. Additionally, the economy benefits from intellectual property exports, financial services, and higher education, all of which contribute significantly to GDP through both domestic and international markets.\\n\\nRole in the Global Economy\\nThe U.S. Dollar (USD) is the global reserve currency, held by over 60% of the world’s central bank reserves. This gives the U.S. an enormous advantage in global trade and borrowing. The U.S. is a key member of international institutions like the World Bank, IMF, G7, G20, and WTO, and plays a central role in setting global economic policy.\\n\\nAs a global innovation hub, the U.S. attracts billions in foreign investment and hosts many of the world's largest and most valuable companies. Its exports include high-tech machinery, aircraft, pharmaceuticals, semiconductors, and financial services, while its imports cover consumer goods, electronics, automobiles, and industrial materials. The trade deficit remains large (around $900 billion in 2024), primarily because the U.S. consumes more than it exports, but its ability to finance this through capital inflows and reserve currency status sustains balance.\\n\\nKey Economic Strengths\\nThe core strength of the U.S. economy lies in its flexible labor market, deep capital markets, technological superiority, and legal system that encourages innovation and property rights. It has a large, highly educated workforce, a diverse immigration pipeline, and access to vast natural resources including oil, gas, coal, and farmland. The presence of top-tier universities and research institutions fuels the knowledge economy, with billions spent annually on R&D—over $700 billion USD, more than any other country.\\n\\nThe U.S. leads in many critical sectors, including software, biotechnology, aerospace, defense, financial services, and media. Its startup ecosystem, especially in Silicon Valley, produces unicorns and tech giants at a scale unmatched globally. Its financial markets—particularly Wall Street—are the most liquid and globally integrated in the world.\\n\\nChallenges and Structural Issues\\nDespite its strength, the U.S. economy faces several serious long-term issues. The national debt has surpassed $34 trillion USD, raising concerns about fiscal sustainability, especially as interest payments alone are growing rapidly. The income and wealth inequality gap has widened, with a small percentage of Americans owning a disproportionate share of wealth. Access to affordable healthcare, housing shortages, and a declining labor force participation in some sectors are additional structural issues.\\n\\nAnother growing concern is political polarization, which often stalls crucial economic reforms and budget agreements, as seen in recurrent debt ceiling crises. The U.S. also faces challenges from global competition, especially from China in areas like AI, semiconductors, and green technology. Moreover, climate change, cybersecurity threats, and geopolitical risks (like Ukraine and Taiwan conflicts) add layers of vulnerability to economic planning.\\n\\nFuture Outlook (2025–2030)\\nLooking forward, the U.S. economy is expected to grow at a moderate pace, powered by innovation in AI, green energy, robotics, biotech, and quantum computing. The Biden administration’s Inflation Reduction Act and CHIPS Act are pumping massive investments into semiconductors, clean energy, and infrastructure. There is a strong push for reshoring of manufacturing, especially in critical sectors like chips, pharmaceuticals, and batteries.\\n\\nHowever, economic leadership will depend on managing the national debt, reforming entitlement programs, upgrading infrastructure, and ensuring the next generation is equipped with digital-age skills. If the U.S. can handle these challenges, it is well-positioned to remain a global economic powerhouse through 2030 and beyond.\\n\\nFinal Summary\\nThe U.S. economy remains the engine of global growth, backed by unmatched innovation, financial dominance, and a strong institutional framework. Its $28 trillion GDP and influence over global finance, trade, and technology make it the centerpiece of the modern economic system. Yet, rising debt, inequality, political gridlock, and competition from emerging powers demand careful policy navigation. If successfully addressed, the U.S. will continue to dominate the global economy well into the future.\""
      ]
     },
     "execution_count": 8,
     "metadata": {},
     "output_type": "execute_result"
    }
   ],
   "source": [
    "docs[0].page_content"
   ]
  },
  {
   "cell_type": "markdown",
   "id": "fb17b544",
   "metadata": {},
   "source": [
    "\"🇺🇸 Overview of the U.S. Economy\\nThe United States of America possesses the largest economy in the world in terms of nominal GDP, making it the most powerful economic force globally. It operates under a capitalist mixed economy, where the private sector dominates, but the government plays a significant regulatory and fiscal role. With a population of over 335 million people and a high level of technological advancement, the U.S. economy thrives on a foundation of consumer spending, innovation, global trade, and financial services. It has a highly diversified structure with strong sectors in technology, healthcare, finance, real estate, defense, and agriculture.\\n\\nU.S. GDP – Size, Composition, and Global Share\\nAs of 2024, the United States’ nominal GDP is estimated to be around $28 trillion USD, accounting for approximately 25% of the global economy. It ranks #1 in the world by nominal GDP, far ahead of China (which ranks 2nd). The U.S. GDP per capita is also among the highest, hovering around $83,000, which indicates a high standard of living and productivity. In terms of Purchasing Power Parity (PPP), the U.S. ranks second, but nominal GDP is considered more reflective of actual economic size and financial influence.\\n\\nThe GDP is predominantly driven by the services sector, which contributes more than 77% to the total GDP. This includes industries such as finance, insurance, real estate, healthcare, education, and information technology. The industrial sector (manufacturing, construction, mining) makes up around 19%, while agriculture, although technologically advanced and export-oriented, contributes only about 1%. Despite its small share in GDP, U.S. agriculture is globally significant in terms of productivity and exports.\\n\\nGDP Growth Trends and Dynamics\\nHistorically, the U.S. economy has enjoyed consistent long-term growth, averaging around 2-3% annually. Post-pandemic, the economy bounced back strongly, but 2022 and 2023 saw rising inflation due to supply chain issues and stimulus-driven demand. In 2024, the U.S. GDP grew at a modest pace of around 2.1%, as the Federal Reserve’s interest rate hikes aimed at controlling inflation also moderated economic expansion. Consumer spending, which makes up nearly 70% of GDP, remains a dominant force in economic stability.\\n\\nThe U.S. maintains its GDP growth through strong innovation, entrepreneurship, and investment in R&D. With companies like Apple, Google, Amazon, Microsoft, and Tesla leading global markets, the U.S. consistently produces high value across sectors, especially in technology and advanced services. Additionally, the economy benefits from intellectual property exports, financial services, and higher education, all of which contribute significantly to GDP through both domestic and international markets.\\n\\nRole in the Global Economy\\nThe U.S. Dollar (USD) is the global reserve currency, held by over 60% of the world’s central bank reserves. This gives the U.S. an enormous advantage in global trade and borrowing. The U.S. is a key member of international institutions like the World Bank, IMF, G7, G20, and WTO, and plays a central role in setting global economic policy.\\n\\nAs a global innovation hub, the U.S. attracts billions in foreign investment and hosts many of the world's largest and most valuable companies. Its exports include high-tech machinery, aircraft, pharmaceuticals, semiconductors, and financial services, while its imports cover consumer goods, electronics, automobiles, and industrial materials. The trade deficit remains large (around $900 billion in 2024), primarily because the U.S. consumes more than it exports, but its ability to finance this through capital inflows and reserve currency status sustains balance.\\n\\nKey Economic Strengths\\nThe core strength of the U.S. economy lies in its flexible labor market, deep capital markets, technological superiority, and legal system that encourages innovation and property rights. It has a large, highly educated workforce, a diverse immigration pipeline, and access to vast natural resources including oil, gas, coal, and farmland. The presence of top-tier universities and research institutions fuels the knowledge economy, with billions spent annually on R&D—over $700 billion USD, more than any other country.\\n\\nThe U.S. leads in many critical sectors, including software, biotechnology, aerospace, defense, financial services, and media. Its startup ecosystem, especially in Silicon Valley, produces unicorns and tech giants at a scale unmatched globally. Its financial markets—particularly Wall Street—are the most liquid and globally integrated in the world.\\n\\nChallenges and Structural Issues\\nDespite its strength, the U.S. economy faces several serious long-term issues. The national debt has surpassed $34 trillion USD, raising concerns about fiscal sustainability, especially as interest payments alone are growing rapidly. The income and wealth inequality gap has widened, with a small percentage of Americans owning a disproportionate share of wealth. Access to affordable healthcare, housing shortages, and a declining labor force participation in some sectors are additional structural issues.\\n\\nAnother growing concern is political polarization, which often stalls crucial economic reforms and budget agreements, as seen in recurrent debt ceiling crises. The U.S. also faces challenges from global competition, especially from China in areas like AI, semiconductors, and green technology. Moreover, climate change, cybersecurity threats, and geopolitical risks (like Ukraine and Taiwan conflicts) add layers of vulnerability to economic planning.\\n\\nFuture Outlook (2025–2030)\\nLooking forward, the U.S. economy is expected to grow at a moderate pace, powered by innovation in AI, green energy, robotics, biotech, and quantum computing. The Biden administration’s Inflation Reduction Act and CHIPS Act are pumping massive investments into semiconductors, clean energy, and infrastructure. There is a strong push for reshoring of manufacturing, especially in critical sectors like chips, pharmaceuticals, and batteries.\\n\\nHowever, economic leadership will depend on managing the national debt, reforming entitlement programs, upgrading infrastructure, and ensuring the next generation is equipped with digital-age skills. If the U.S. can handle these challenges, it is well-positioned to remain a global economic powerhouse through 2030 and beyond.\\n\\nFinal Summary\\nThe U.S. economy remains the engine of global growth, backed by unmatched innovation, financial dominance, and a strong institutional framework. Its $28 trillion GDP and influence over global finance, trade, and technology make it the centerpiece of the modern economic system. Yet, rising debt, inequality, political gridlock, and competition from emerging powers demand careful policy navigation. If successfully addressed, the U.S. will continue to dominate the global economy well into the future.\"\n"
   ]
  },
  {
   "cell_type": "code",
   "execution_count": 9,
   "id": "be8976ba",
   "metadata": {},
   "outputs": [],
   "source": [
    "text_splitter=RecursiveCharacterTextSplitter(\n",
    "chunk_size=200,\n",
    "chunk_overlap=50\n",
    ")"
   ]
  },
  {
   "cell_type": "code",
   "execution_count": 10,
   "id": "6c9fb9e3",
   "metadata": {},
   "outputs": [],
   "source": [
    "new_docs=text_splitter.split_documents(documents=docs)"
   ]
  },
  {
   "cell_type": "code",
   "execution_count": 11,
   "id": "2434efbf",
   "metadata": {},
   "outputs": [
    {
     "data": {
      "text/plain": [
       "[Document(metadata={'source': '..\\\\data2\\\\usa.txt'}, page_content='🇺🇸 Overview of the U.S. Economy'),\n",
       " Document(metadata={'source': '..\\\\data2\\\\usa.txt'}, page_content='The United States of America possesses the largest economy in the world in terms of nominal GDP, making it the most powerful economic force globally. It operates under a capitalist mixed economy,'),\n",
       " Document(metadata={'source': '..\\\\data2\\\\usa.txt'}, page_content='It operates under a capitalist mixed economy, where the private sector dominates, but the government plays a significant regulatory and fiscal role. With a population of over 335 million people and a'),\n",
       " Document(metadata={'source': '..\\\\data2\\\\usa.txt'}, page_content='a population of over 335 million people and a high level of technological advancement, the U.S. economy thrives on a foundation of consumer spending, innovation, global trade, and financial services.'),\n",
       " Document(metadata={'source': '..\\\\data2\\\\usa.txt'}, page_content='innovation, global trade, and financial services. It has a highly diversified structure with strong sectors in technology, healthcare, finance, real estate, defense, and agriculture.'),\n",
       " Document(metadata={'source': '..\\\\data2\\\\usa.txt'}, page_content='U.S. GDP – Size, Composition, and Global Share'),\n",
       " Document(metadata={'source': '..\\\\data2\\\\usa.txt'}, page_content='As of 2024, the United States’ nominal GDP is estimated to be around $28 trillion USD, accounting for approximately 25% of the global economy. It ranks #1 in the world by nominal GDP, far ahead of'),\n",
       " Document(metadata={'source': '..\\\\data2\\\\usa.txt'}, page_content='#1 in the world by nominal GDP, far ahead of China (which ranks 2nd). The U.S. GDP per capita is also among the highest, hovering around $83,000, which indicates a high standard of living and'),\n",
       " Document(metadata={'source': '..\\\\data2\\\\usa.txt'}, page_content='which indicates a high standard of living and productivity. In terms of Purchasing Power Parity (PPP), the U.S. ranks second, but nominal GDP is considered more reflective of actual economic size and'),\n",
       " Document(metadata={'source': '..\\\\data2\\\\usa.txt'}, page_content='more reflective of actual economic size and financial influence.'),\n",
       " Document(metadata={'source': '..\\\\data2\\\\usa.txt'}, page_content='The GDP is predominantly driven by the services sector, which contributes more than 77% to the total GDP. This includes industries such as finance, insurance, real estate, healthcare, education, and'),\n",
       " Document(metadata={'source': '..\\\\data2\\\\usa.txt'}, page_content='real estate, healthcare, education, and information technology. The industrial sector (manufacturing, construction, mining) makes up around 19%, while agriculture, although technologically advanced'),\n",
       " Document(metadata={'source': '..\\\\data2\\\\usa.txt'}, page_content='agriculture, although technologically advanced and export-oriented, contributes only about 1%. Despite its small share in GDP, U.S. agriculture is globally significant in terms of productivity and'),\n",
       " Document(metadata={'source': '..\\\\data2\\\\usa.txt'}, page_content='globally significant in terms of productivity and exports.'),\n",
       " Document(metadata={'source': '..\\\\data2\\\\usa.txt'}, page_content='GDP Growth Trends and Dynamics'),\n",
       " Document(metadata={'source': '..\\\\data2\\\\usa.txt'}, page_content='Historically, the U.S. economy has enjoyed consistent long-term growth, averaging around 2-3% annually. Post-pandemic, the economy bounced back strongly, but 2022 and 2023 saw rising inflation due to'),\n",
       " Document(metadata={'source': '..\\\\data2\\\\usa.txt'}, page_content='but 2022 and 2023 saw rising inflation due to supply chain issues and stimulus-driven demand. In 2024, the U.S. GDP grew at a modest pace of around 2.1%, as the Federal Reserve’s interest rate hikes'),\n",
       " Document(metadata={'source': '..\\\\data2\\\\usa.txt'}, page_content='as the Federal Reserve’s interest rate hikes aimed at controlling inflation also moderated economic expansion. Consumer spending, which makes up nearly 70% of GDP, remains a dominant force in'),\n",
       " Document(metadata={'source': '..\\\\data2\\\\usa.txt'}, page_content='up nearly 70% of GDP, remains a dominant force in economic stability.'),\n",
       " Document(metadata={'source': '..\\\\data2\\\\usa.txt'}, page_content='The U.S. maintains its GDP growth through strong innovation, entrepreneurship, and investment in R&D. With companies like Apple, Google, Amazon, Microsoft, and Tesla leading global markets, the U.S.'),\n",
       " Document(metadata={'source': '..\\\\data2\\\\usa.txt'}, page_content='and Tesla leading global markets, the U.S. consistently produces high value across sectors, especially in technology and advanced services. Additionally, the economy benefits from intellectual'),\n",
       " Document(metadata={'source': '..\\\\data2\\\\usa.txt'}, page_content='the economy benefits from intellectual property exports, financial services, and higher education, all of which contribute significantly to GDP through both domestic and international markets.'),\n",
       " Document(metadata={'source': '..\\\\data2\\\\usa.txt'}, page_content='Role in the Global Economy'),\n",
       " Document(metadata={'source': '..\\\\data2\\\\usa.txt'}, page_content='The U.S. Dollar (USD) is the global reserve currency, held by over 60% of the world’s central bank reserves. This gives the U.S. an enormous advantage in global trade and borrowing. The U.S. is a key'),\n",
       " Document(metadata={'source': '..\\\\data2\\\\usa.txt'}, page_content='in global trade and borrowing. The U.S. is a key member of international institutions like the World Bank, IMF, G7, G20, and WTO, and plays a central role in setting global economic policy.'),\n",
       " Document(metadata={'source': '..\\\\data2\\\\usa.txt'}, page_content=\"As a global innovation hub, the U.S. attracts billions in foreign investment and hosts many of the world's largest and most valuable companies. Its exports include high-tech machinery, aircraft,\"),\n",
       " Document(metadata={'source': '..\\\\data2\\\\usa.txt'}, page_content='exports include high-tech machinery, aircraft, pharmaceuticals, semiconductors, and financial services, while its imports cover consumer goods, electronics, automobiles, and industrial materials. The'),\n",
       " Document(metadata={'source': '..\\\\data2\\\\usa.txt'}, page_content='automobiles, and industrial materials. The trade deficit remains large (around $900 billion in 2024), primarily because the U.S. consumes more than it exports, but its ability to finance this through'),\n",
       " Document(metadata={'source': '..\\\\data2\\\\usa.txt'}, page_content='exports, but its ability to finance this through capital inflows and reserve currency status sustains balance.'),\n",
       " Document(metadata={'source': '..\\\\data2\\\\usa.txt'}, page_content='Key Economic Strengths'),\n",
       " Document(metadata={'source': '..\\\\data2\\\\usa.txt'}, page_content='The core strength of the U.S. economy lies in its flexible labor market, deep capital markets, technological superiority, and legal system that encourages innovation and property rights. It has a'),\n",
       " Document(metadata={'source': '..\\\\data2\\\\usa.txt'}, page_content='innovation and property rights. It has a large, highly educated workforce, a diverse immigration pipeline, and access to vast natural resources including oil, gas, coal, and farmland. The presence of'),\n",
       " Document(metadata={'source': '..\\\\data2\\\\usa.txt'}, page_content='oil, gas, coal, and farmland. The presence of top-tier universities and research institutions fuels the knowledge economy, with billions spent annually on R&D—over $700 billion USD, more than any'),\n",
       " Document(metadata={'source': '..\\\\data2\\\\usa.txt'}, page_content='on R&D—over $700 billion USD, more than any other country.'),\n",
       " Document(metadata={'source': '..\\\\data2\\\\usa.txt'}, page_content='The U.S. leads in many critical sectors, including software, biotechnology, aerospace, defense, financial services, and media. Its startup ecosystem, especially in Silicon Valley, produces unicorns'),\n",
       " Document(metadata={'source': '..\\\\data2\\\\usa.txt'}, page_content='especially in Silicon Valley, produces unicorns and tech giants at a scale unmatched globally. Its financial markets—particularly Wall Street—are the most liquid and globally integrated in the world.'),\n",
       " Document(metadata={'source': '..\\\\data2\\\\usa.txt'}, page_content='Challenges and Structural Issues'),\n",
       " Document(metadata={'source': '..\\\\data2\\\\usa.txt'}, page_content='Despite its strength, the U.S. economy faces several serious long-term issues. The national debt has surpassed $34 trillion USD, raising concerns about fiscal sustainability, especially as interest'),\n",
       " Document(metadata={'source': '..\\\\data2\\\\usa.txt'}, page_content='fiscal sustainability, especially as interest payments alone are growing rapidly. The income and wealth inequality gap has widened, with a small percentage of Americans owning a disproportionate'),\n",
       " Document(metadata={'source': '..\\\\data2\\\\usa.txt'}, page_content='percentage of Americans owning a disproportionate share of wealth. Access to affordable healthcare, housing shortages, and a declining labor force participation in some sectors are additional'),\n",
       " Document(metadata={'source': '..\\\\data2\\\\usa.txt'}, page_content='participation in some sectors are additional structural issues.'),\n",
       " Document(metadata={'source': '..\\\\data2\\\\usa.txt'}, page_content='Another growing concern is political polarization, which often stalls crucial economic reforms and budget agreements, as seen in recurrent debt ceiling crises. The U.S. also faces challenges from'),\n",
       " Document(metadata={'source': '..\\\\data2\\\\usa.txt'}, page_content='crises. The U.S. also faces challenges from global competition, especially from China in areas like AI, semiconductors, and green technology. Moreover, climate change, cybersecurity threats, and'),\n",
       " Document(metadata={'source': '..\\\\data2\\\\usa.txt'}, page_content='climate change, cybersecurity threats, and geopolitical risks (like Ukraine and Taiwan conflicts) add layers of vulnerability to economic planning.'),\n",
       " Document(metadata={'source': '..\\\\data2\\\\usa.txt'}, page_content='Future Outlook (2025–2030)'),\n",
       " Document(metadata={'source': '..\\\\data2\\\\usa.txt'}, page_content='Looking forward, the U.S. economy is expected to grow at a moderate pace, powered by innovation in AI, green energy, robotics, biotech, and quantum computing. The Biden administration’s Inflation'),\n",
       " Document(metadata={'source': '..\\\\data2\\\\usa.txt'}, page_content='computing. The Biden administration’s Inflation Reduction Act and CHIPS Act are pumping massive investments into semiconductors, clean energy, and infrastructure. There is a strong push for reshoring'),\n",
       " Document(metadata={'source': '..\\\\data2\\\\usa.txt'}, page_content='There is a strong push for reshoring of manufacturing, especially in critical sectors like chips, pharmaceuticals, and batteries.'),\n",
       " Document(metadata={'source': '..\\\\data2\\\\usa.txt'}, page_content='However, economic leadership will depend on managing the national debt, reforming entitlement programs, upgrading infrastructure, and ensuring the next generation is equipped with digital-age skills.'),\n",
       " Document(metadata={'source': '..\\\\data2\\\\usa.txt'}, page_content='generation is equipped with digital-age skills. If the U.S. can handle these challenges, it is well-positioned to remain a global economic powerhouse through 2030 and beyond.'),\n",
       " Document(metadata={'source': '..\\\\data2\\\\usa.txt'}, page_content='Final Summary'),\n",
       " Document(metadata={'source': '..\\\\data2\\\\usa.txt'}, page_content='The U.S. economy remains the engine of global growth, backed by unmatched innovation, financial dominance, and a strong institutional framework. Its $28 trillion GDP and influence over global'),\n",
       " Document(metadata={'source': '..\\\\data2\\\\usa.txt'}, page_content='Its $28 trillion GDP and influence over global finance, trade, and technology make it the centerpiece of the modern economic system. Yet, rising debt, inequality, political gridlock, and competition'),\n",
       " Document(metadata={'source': '..\\\\data2\\\\usa.txt'}, page_content='inequality, political gridlock, and competition from emerging powers demand careful policy navigation. If successfully addressed, the U.S. will continue to dominate the global economy well into the'),\n",
       " Document(metadata={'source': '..\\\\data2\\\\usa.txt'}, page_content='to dominate the global economy well into the future.')]"
      ]
     },
     "execution_count": 11,
     "metadata": {},
     "output_type": "execute_result"
    }
   ],
   "source": [
    "new_docs"
   ]
  },
  {
   "cell_type": "code",
   "execution_count": 12,
   "id": "9a10f2d3",
   "metadata": {},
   "outputs": [],
   "source": [
    "doc_string=[doc.page_content for doc in new_docs]"
   ]
  },
  {
   "cell_type": "code",
   "execution_count": 13,
   "id": "8309560d",
   "metadata": {},
   "outputs": [
    {
     "data": {
      "text/plain": [
       "55"
      ]
     },
     "execution_count": 13,
     "metadata": {},
     "output_type": "execute_result"
    }
   ],
   "source": [
    "doc_string\n",
    "len(doc_string)"
   ]
  },
  {
   "cell_type": "code",
   "execution_count": 14,
   "id": "8f8cf77b",
   "metadata": {},
   "outputs": [],
   "source": [
    "db=Chroma.from_documents(new_docs,embeddings)"
   ]
  },
  {
   "cell_type": "code",
   "execution_count": 15,
   "id": "a7824b96",
   "metadata": {},
   "outputs": [],
   "source": [
    "retriever=db.as_retriever(search_kwargs={\"k\": 3})"
   ]
  },
  {
   "cell_type": "code",
   "execution_count": 16,
   "id": "ebeb8d51",
   "metadata": {},
   "outputs": [
    {
     "data": {
      "text/plain": [
       "[Document(metadata={'source': '..\\\\data2\\\\usa.txt'}, page_content='🇺🇸 Overview of the U.S. Economy'),\n",
       " Document(metadata={'source': '..\\\\data2\\\\usa.txt'}, page_content='U.S. GDP – Size, Composition, and Global Share'),\n",
       " Document(metadata={'source': '..\\\\data2\\\\usa.txt'}, page_content='GDP Growth Trends and Dynamics')]"
      ]
     },
     "execution_count": 16,
     "metadata": {},
     "output_type": "execute_result"
    }
   ],
   "source": [
    "retriever.invoke(\"industrial growth of usa?\")"
   ]
  },
  {
   "cell_type": "markdown",
   "id": "b0cf121a",
   "metadata": {},
   "source": [
    "# Creatino of pydantic class\n"
   ]
  },
  {
   "cell_type": "code",
   "execution_count": 17,
   "id": "c4f75e0f",
   "metadata": {},
   "outputs": [],
   "source": [
    "import operator\n",
    "from typing import List\n",
    "from pydantic import BaseModel , Field\n",
    "from langchain.prompts import PromptTemplate\n",
    "from typing import TypedDict, Annotated, Sequence\n",
    "from langchain_core.messages import BaseMessage\n",
    "from langchain_core.output_parsers import StrOutputParser\n",
    "from langchain_core.prompts import ChatPromptTemplate, PromptTemplate\n",
    "from langchain_core.runnables import RunnablePassthrough\n",
    "from langchain_core.messages import HumanMessage, AIMessage\n",
    "from langgraph.graph import StateGraph,END"
   ]
  },
  {
   "cell_type": "code",
   "execution_count": 18,
   "id": "f6976153",
   "metadata": {},
   "outputs": [],
   "source": [
    "class TopicSelectionParser(BaseModel):\n",
    "    Topic:str=Field(description=\"selected topic\")\n",
    "    Reasoning:str=Field(description='Reasoning behind topic selection')"
   ]
  },
  {
   "cell_type": "code",
   "execution_count": 19,
   "id": "a2e9560d",
   "metadata": {},
   "outputs": [],
   "source": [
    "from langchain.output_parsers import PydanticOutputParser"
   ]
  },
  {
   "cell_type": "code",
   "execution_count": 20,
   "id": "679e18e9",
   "metadata": {},
   "outputs": [],
   "source": [
    "parser=PydanticOutputParser(pydantic_object=TopicSelectionParser)"
   ]
  },
  {
   "cell_type": "code",
   "execution_count": 21,
   "id": "d0c27393",
   "metadata": {},
   "outputs": [
    {
     "data": {
      "text/plain": [
       "'The output should be formatted as a JSON instance that conforms to the JSON schema below.\\n\\nAs an example, for the schema {\"properties\": {\"foo\": {\"title\": \"Foo\", \"description\": \"a list of strings\", \"type\": \"array\", \"items\": {\"type\": \"string\"}}}, \"required\": [\"foo\"]}\\nthe object {\"foo\": [\"bar\", \"baz\"]} is a well-formatted instance of the schema. The object {\"properties\": {\"foo\": [\"bar\", \"baz\"]}} is not well-formatted.\\n\\nHere is the output schema:\\n```\\n{\"properties\": {\"Topic\": {\"description\": \"selected topic\", \"title\": \"Topic\", \"type\": \"string\"}, \"Reasoning\": {\"description\": \"Reasoning behind topic selection\", \"title\": \"Reasoning\", \"type\": \"string\"}}, \"required\": [\"Topic\", \"Reasoning\"]}\\n```'"
      ]
     },
     "execution_count": 21,
     "metadata": {},
     "output_type": "execute_result"
    }
   ],
   "source": [
    "parser.get_format_instructions()"
   ]
  },
  {
   "cell_type": "markdown",
   "id": "0628cbf2",
   "metadata": {},
   "source": [
    "# this below agentstate is just for the explnation like how state works"
   ]
  },
  {
   "cell_type": "code",
   "execution_count": 22,
   "id": "481297e7",
   "metadata": {},
   "outputs": [],
   "source": [
    "class AgentState(TypedDict):\n",
    "    messages: Annotated[Sequence[BaseMessage], operator.add]"
   ]
  },
  {
   "cell_type": "code",
   "execution_count": 23,
   "id": "74b0f3c8",
   "metadata": {},
   "outputs": [],
   "source": [
    "state={\"messages\":[\"hi\"]}"
   ]
  },
  {
   "cell_type": "code",
   "execution_count": 24,
   "id": "51d5ec02",
   "metadata": {},
   "outputs": [],
   "source": [
    "state=\"hi\""
   ]
  },
  {
   "cell_type": "code",
   "execution_count": 25,
   "id": "4fa48747",
   "metadata": {},
   "outputs": [],
   "source": [
    "def function_1(state:AgentState):\n",
    "    \n",
    "    question=state[\"messages\"][-1]\n",
    "    \n",
    "    print(\"Question\",question)\n",
    "    \n",
    "    template=\"\"\"\n",
    "    Your task is to classify the given user query into one of the following categories: [USA,Not Related]. \n",
    "    Only respond with the category name and nothing else.\n",
    "\n",
    "    User query: {question}\n",
    "    {format_instructions}\n",
    "    \"\"\"\n",
    "    \n",
    "    prompt= PromptTemplate(\n",
    "        template=template,\n",
    "        input_variable=[\"question\"],\n",
    "        partial_variables={\"format_instructions\": parser.get_format_instructions()}\n",
    "    )\n",
    "    \n",
    "    \n",
    "    chain= prompt | model | parser\n",
    "    \n",
    "    response = chain.invoke({\"question\":question})\n",
    "    \n",
    "    print(\"Parsed response:\", response)\n",
    "    \n",
    "    return {\"messages\": [response.Topic]}"
   ]
  },
  {
   "cell_type": "code",
   "execution_count": 26,
   "id": "6dde4c39",
   "metadata": {},
   "outputs": [],
   "source": [
    "state={\"messages\":[\"what is a today weather?\"]}"
   ]
  },
  {
   "cell_type": "code",
   "execution_count": 27,
   "id": "8e224d1d",
   "metadata": {},
   "outputs": [],
   "source": [
    "state={\"messages\":[\"what is a GDP of usa??\"]}"
   ]
  },
  {
   "cell_type": "code",
   "execution_count": 28,
   "id": "681b3fbd",
   "metadata": {},
   "outputs": [
    {
     "name": "stdout",
     "output_type": "stream",
     "text": [
      "Question what is a GDP of usa??\n",
      "Parsed response: Topic='USA' Reasoning=\"The user query explicitly asks for information about the 'usa' (GDP of usa), directly falling under the USA category.\"\n"
     ]
    },
    {
     "data": {
      "text/plain": [
       "{'messages': ['USA']}"
      ]
     },
     "execution_count": 28,
     "metadata": {},
     "output_type": "execute_result"
    }
   ],
   "source": [
    "function_1(state)"
   ]
  },
  {
   "cell_type": "code",
   "execution_count": 29,
   "id": "0140dbbb",
   "metadata": {},
   "outputs": [],
   "source": [
    "class TopicSelectionParser(BaseModel):\n",
    "    Topic:str=Field(description=\"selected topic\")\n",
    "    Reasoning:str=Field(description='Reasoning behind topic selection')"
   ]
  },
  {
   "cell_type": "code",
   "execution_count": 30,
   "id": "99fcc6db",
   "metadata": {},
   "outputs": [],
   "source": [
    "def router(state:AgentState):\n",
    "    print(\"-> ROUTER ->\")\n",
    "    \n",
    "    last_message=state[\"messages\"][-1]\n",
    "    print(\"last_message:\", last_message)\n",
    "    \n",
    "    if \"usa\" in last_message.lower():\n",
    "        return \"RAG Call\"\n",
    "    else:\n",
    "        return \"LLM Call\""
   ]
  },
  {
   "cell_type": "code",
   "execution_count": 31,
   "id": "392e99b3",
   "metadata": {},
   "outputs": [],
   "source": [
    "def format_docs(docs):\n",
    "    return \"\\n\\n\".join(doc.page_content for doc in docs)"
   ]
  },
  {
   "cell_type": "code",
   "execution_count": 32,
   "id": "576b12d3",
   "metadata": {},
   "outputs": [],
   "source": [
    "# RAG Function\n",
    "def function_2(state:AgentState):\n",
    "    print(\"-> RAG Call ->\")\n",
    "    \n",
    "    question = state[\"messages\"][0]\n",
    "    \n",
    "    prompt=PromptTemplate(\n",
    "        template=\"\"\"You are an assistant for question-answering tasks. Use the following pieces of retrieved context to answer the question. If you don't know the answer, just say that you don't know. Use three sentences maximum and keep the answer concise.\\nQuestion: {question} \\nContext: {context} \\nAnswer:\"\"\",\n",
    "        \n",
    "        input_variables=['context', 'question']\n",
    "    )\n",
    "    \n",
    "    rag_chain = (\n",
    "        {\"context\": retriever | format_docs, \"question\": RunnablePassthrough()}\n",
    "        | prompt\n",
    "        | model\n",
    "        | StrOutputParser()\n",
    "    )\n",
    "    result = rag_chain.invoke(question)\n",
    "    return  {\"messages\": [result]}"
   ]
  },
  {
   "cell_type": "code",
   "execution_count": 33,
   "id": "28ae3a0c",
   "metadata": {},
   "outputs": [],
   "source": [
    "# LLM Function\n",
    "def function_3(state:AgentState):\n",
    "    print(\"-> LLM Call ->\")\n",
    "    question = state[\"messages\"][0]\n",
    "    \n",
    "    # Normal LLM call\n",
    "    complete_query = \"Anwer the follow question with you knowledge of the real world. Following is the user question: \" + question\n",
    "    response = model.invoke(complete_query)\n",
    "    return {\"messages\": [response.content]}"
   ]
  },
  {
   "cell_type": "code",
   "execution_count": 34,
   "id": "d8e44326",
   "metadata": {},
   "outputs": [],
   "source": [
    "from langgraph.graph import StateGraph,END"
   ]
  },
  {
   "cell_type": "code",
   "execution_count": 35,
   "id": "028d9290",
   "metadata": {},
   "outputs": [
    {
     "data": {
      "text/plain": [
       "<langgraph.graph.state.StateGraph at 0x1c960c633d0>"
      ]
     },
     "execution_count": 35,
     "metadata": {},
     "output_type": "execute_result"
    }
   ],
   "source": [
    "workflow=StateGraph(AgentState)\n",
    "workflow.add_node(\"Supervisor\",function_1)\n",
    "workflow.add_node(\"RAG\",function_2)\n",
    "workflow.add_node(\"LLM\",function_3)\n",
    "workflow.set_entry_point(\"Supervisor\")"
   ]
  },
  {
   "cell_type": "code",
   "execution_count": 36,
   "id": "10a409e4",
   "metadata": {},
   "outputs": [
    {
     "data": {
      "text/plain": [
       "<langgraph.graph.state.StateGraph at 0x1c960c633d0>"
      ]
     },
     "execution_count": 36,
     "metadata": {},
     "output_type": "execute_result"
    }
   ],
   "source": [
    "workflow.add_conditional_edges(\n",
    "    \"Supervisor\",\n",
    "    router,\n",
    "    {\n",
    "        \"RAG Call\": \"RAG\",\n",
    "        \"LLM Call\": \"LLM\",\n",
    "    }\n",
    ")"
   ]
  },
  {
   "cell_type": "code",
   "execution_count": 37,
   "id": "d699ccfd",
   "metadata": {},
   "outputs": [
    {
     "data": {
      "text/plain": [
       "<langgraph.graph.state.StateGraph at 0x1c960c633d0>"
      ]
     },
     "execution_count": 37,
     "metadata": {},
     "output_type": "execute_result"
    }
   ],
   "source": [
    "workflow.add_edge(\"RAG\",END)\n",
    "workflow.add_edge(\"LLM\",END)"
   ]
  },
  {
   "cell_type": "code",
   "execution_count": 38,
   "id": "2cfd125c",
   "metadata": {},
   "outputs": [],
   "source": [
    "app=workflow.compile()"
   ]
  },
  {
   "cell_type": "code",
   "execution_count": 39,
   "id": "2282ff0e",
   "metadata": {},
   "outputs": [],
   "source": [
    "state={\"messages\":[\"hi\"]}"
   ]
  },
  {
   "cell_type": "code",
   "execution_count": 40,
   "id": "e13875bd",
   "metadata": {},
   "outputs": [
    {
     "name": "stdout",
     "output_type": "stream",
     "text": [
      "Question hi\n",
      "Parsed response: Topic='Not Related' Reasoning=\"The user query 'hi' is a simple greeting and does not contain any keywords or context related to 'USA' or any other specific topic.\"\n",
      "-> ROUTER ->\n",
      "last_message: Not Related\n",
      "-> LLM Call ->\n"
     ]
    },
    {
     "data": {
      "text/plain": [
       "{'messages': ['hi', 'Not Related', 'Hi there! How can I help you today?']}"
      ]
     },
     "execution_count": 40,
     "metadata": {},
     "output_type": "execute_result"
    }
   ],
   "source": [
    "app.invoke(state)"
   ]
  },
  {
   "cell_type": "code",
   "execution_count": 41,
   "id": "42585ccd",
   "metadata": {},
   "outputs": [
    {
     "data": {
      "image/png": "[encoded data removed]",
      "text/plain": [
       "<langgraph.graph.state.CompiledStateGraph object at 0x000001C960C635B0>"
      ]
     },
     "execution_count": 41,
     "metadata": {},
     "output_type": "execute_result"
    }
   ],
   "source": [
    "app"
   ]
  },
  {
   "cell_type": "code",
   "execution_count": 56,
   "id": "be66bc36",
   "metadata": {},
   "outputs": [],
   "source": [
    "state={\"messages\":[\"what is a gdp of usa?\"]}"
   ]
  },
  {
   "cell_type": "code",
   "execution_count": 57,
   "id": "8d6ff54b",
   "metadata": {},
   "outputs": [
    {
     "name": "stdout",
     "output_type": "stream",
     "text": [
      "Question what is a gdp of usa?\n",
      "Parsed response: Topic='USA' Reasoning=\"The user query explicitly asks for information about the 'USA' (Gross Domestic Product of USA), directly aligning with the 'USA' category.\"\n",
      "-> ROUTER ->\n",
      "last_message: USA\n",
      "-> RAG Call ->\n"
     ]
    },
    {
     "data": {
      "text/plain": [
       "{'messages': ['what is a gdp of usa?',\n",
       "  'USA',\n",
       "  \"As of 2024, the United States' nominal GDP is estimated to be around $28 trillion USD. This accounts for approximately 25% of the global economy. The U.S. ranks #1 in the world by nominal GDP.\"]}"
      ]
     },
     "execution_count": 57,
     "metadata": {},
     "output_type": "execute_result"
    }
   ],
   "source": [
    "app.invoke(state)"
   ]
  },
  {
   "cell_type": "code",
   "execution_count": 58,
   "id": "16051418",
   "metadata": {},
   "outputs": [],
   "source": [
    "state={\"messages\":[\"can you tell me the industrial growth of world's most powerful economy?\"]}"
   ]
  },
  {
   "cell_type": "code",
   "execution_count": 59,
   "id": "926c6a6e",
   "metadata": {},
   "outputs": [],
   "source": [
    "state={\"messages\":[\"can you tell me the industrial growth of world's poor economy?\"]}"
   ]
  },
  {
   "cell_type": "code",
   "execution_count": 60,
   "id": "0107952a",
   "metadata": {},
   "outputs": [
    {
     "name": "stdout",
     "output_type": "stream",
     "text": [
      "Question can you tell me the industrial growth of world's poor economy?\n",
      "Parsed response: Topic='Not Related' Reasoning=\"The user query asks about the 'industrial growth of world's poor economy', which is a global economic topic and does not mention or relate to the USA in any way.\"\n",
      "-> ROUTER ->\n",
      "last_message: Not Related\n",
      "-> LLM Call ->\n"
     ]
    }
   ],
   "source": [
    "result=app.invoke(state)"
   ]
  },
  {
   "cell_type": "code",
   "execution_count": 61,
   "id": "ff9ed36b",
   "metadata": {},
   "outputs": [
    {
     "data": {
      "text/plain": [
       "'The industrial growth of the world\\'s poor economies, often referred to as developing economies, emerging markets, or low- and lower-middle-income countries, is a complex and varied picture, but generally shows a trend of **significant, albeit uneven, progress over the last few decades.**\\n\\nHere\\'s a breakdown based on real-world knowledge:\\n\\n**1. General Trend: Shift from Agriculture to Industry (and Services)**\\n\\n*   **Initial Stages:** Many of these economies historically relied heavily on subsistence agriculture. Industrialization marks a crucial step in their economic development.\\n*   **Catch-Up Growth:** They often experience higher growth rates in industry compared to developed nations as they \"catch up,\" leveraging lower labor costs, technology transfer, and increasing global integration.\\n*   **Value Chain Progression:** This typically starts with basic manufacturing (textiles, apparel, simple assembly), then moves into more complex goods, processing raw materials, and construction.\\n\\n**2. Key Drivers of Industrial Growth:**\\n\\n*   **Globalization and Trade:** Increased access to global markets for exports and imports of technology and capital goods. Integration into global supply chains has been a major factor.\\n*   **Foreign Direct Investment (FDI):** Multinational corporations invest in these countries to take advantage of lower production costs, access new markets, and utilize natural resources. This brings capital, technology, and management expertise.\\n*   **Demographic Dividend:** Many poor economies have young, growing populations, providing a large and often inexpensive labor force for labor-intensive industries.\\n*   **Infrastructure Development:** Investments in roads, ports, power generation, and telecommunications, often financed by international loans or foreign aid, facilitate industrial activity.\\n*   **Policy Reforms:** Governments in some countries have adopted more market-friendly policies, privatized state-owned enterprises, reduced trade barriers, and improved regulatory environments to attract investment.\\n*   **Resource Endowments:** Countries rich in natural resources (oil, gas, minerals) often see growth in extractive industries and related processing.\\n\\n**3. Challenges and Obstacles:**\\n\\n*   **Lack of Adequate Infrastructure:** Despite progress, many still suffer from unreliable power, poor transportation networks, and limited access to clean water, which hinders industrial efficiency.\\n*   **Human Capital Deficits:** Low levels of education, limited access to vocational training, and poor health outcomes can lead to a shortage of skilled labor and reduce productivity.\\n*   **Weak Institutions and Governance:** Corruption, political instability, weak rule of law, and inefficient bureaucracies deter investment and distort markets.\\n*   **Access to Finance:** Small and medium-sized enterprises (SMEs), which are crucial for industrial growth, often struggle to access affordable credit.\\n*   **Global Competition:** Developing industries face intense competition from established manufacturers in developed and more advanced emerging economies.\\n*   **\"Middle-Income Trap\":** Some economies struggle to transition from low-cost, labor-intensive manufacturing to higher-value-added production and innovation.\\n*   **Climate Change:** Disruptions to agriculture and natural resources, as well as extreme weather events, can undermine industrial development.\\n*   **Digital Divide:** Lack of access to digital infrastructure and skills can limit participation in the increasingly digital global economy.\\n\\n**4. Regional Variations:**\\n\\n*   **Asia (especially Southeast Asia and South Asia):** Has seen the most dynamic industrial growth, with countries like Vietnam, Bangladesh, Cambodia, and India becoming significant players in manufacturing and services. China\\'s earlier industrialization also created opportunities for its neighbors.\\n*   **Africa:** Industrialization has been slower and more challenging, often dominated by resource extraction. However, some countries (e.g., Ethiopia, Kenya) have made strides in light manufacturing and agro-processing, driven by infrastructure investment and regional integration efforts.\\n*   **Latin America:** Industrial growth varies widely. Some countries have strong manufacturing bases but face challenges with competitiveness, commodity dependence, and political volatility.\\n\\n**5. Recent Trends and Future Outlook:**\\n\\n*   **Impact of COVID-19:** The pandemic caused significant disruptions to global supply chains, impacting industrial production and trade in many poor economies.\\n*   **Automation and AI:** The rise of automation poses a challenge, as it could reduce the competitive advantage of low-wage labor in manufacturing, potentially making it harder for these economies to industrialize using traditional methods.\\n*   **Green Industrialization:** There\\'s growing pressure and opportunity to adopt more sustainable industrial practices, invest in renewable energy, and develop green technologies.\\n*   **Regionalization of Supply Chains:** Some companies are looking to diversify their supply chains away from single dominant producers, which could create new opportunities for smaller economies.\\n*   **Digital Economy:** Growth in digital services, e-commerce, and tech-enabled industries offers new avenues for economic diversification and growth, though it requires significant investment in digital infrastructure and skills.\\n\\nIn summary, the industrial growth of the world\\'s poor economies is a story of **progress against significant odds.** While many have successfully transitioned from agrarian societies to industrializing nations, the path is fraught with challenges related to infrastructure, governance, human capital, and global economic shifts. Continued growth will depend on strategic investments, sound policies, and adaptation to new technologies and environmental imperatives.'"
      ]
     },
     "execution_count": 61,
     "metadata": {},
     "output_type": "execute_result"
    }
   ],
   "source": [
    "result[\"messages\"][-1]"
   ]
  },
  {
   "cell_type": "markdown",
   "id": "57ce4141",
   "metadata": {},
   "source": [
    "'The industrial growth of the world\\'s poor economies, often referred to as developing economies, emerging markets, or low- and lower-middle-income countries, is a complex and varied picture, but generally shows a trend of **significant, albeit uneven, progress over the last few decades.**\\n\\nHere\\'s a breakdown based on real-world knowledge:\\n\\n**1. General Trend: Shift from Agriculture to Industry (and Services)**\\n\\n*   **Initial Stages:** Many of these economies historically relied heavily on subsistence agriculture. Industrialization marks a crucial step in their economic development.\\n*   **Catch-Up Growth:** They often experience higher growth rates in industry compared to developed nations as they \"catch up,\" leveraging lower labor costs, technology transfer, and increasing global integration.\\n*   **Value Chain Progression:** This typically starts with basic manufacturing (textiles, apparel, simple assembly), then moves into more complex goods, processing raw materials, and construction.\\n\\n**2. Key Drivers of Industrial Growth:**\\n\\n*   **Globalization and Trade:** Increased access to global markets for exports and imports of technology and capital goods. Integration into global supply chains has been a major factor.\\n*   **Foreign Direct Investment (FDI):** Multinational corporations invest in these countries to take advantage of lower production costs, access new markets, and utilize natural resources. This brings capital, technology, and management expertise.\\n*   **Demographic Dividend:** Many poor economies have young, growing populations, providing a large and often inexpensive labor force for labor-intensive industries.\\n*   **Infrastructure Development:** Investments in roads, ports, power generation, and telecommunications, often financed by international loans or foreign aid, facilitate industrial activity.\\n*   **Policy Reforms:** Governments in some countries have adopted more market-friendly policies, privatized state-owned enterprises, reduced trade barriers, and improved regulatory environments to attract investment.\\n*   **Resource Endowments:** Countries rich in natural resources (oil, gas, minerals) often see growth in extractive industries and related processing.\\n\\n**3. Challenges and Obstacles:**\\n\\n*   **Lack of Adequate Infrastructure:** Despite progress, many still suffer from unreliable power, poor transportation networks, and limited access to clean water, which hinders industrial efficiency.\\n*   **Human Capital Deficits:** Low levels of education, limited access to vocational training, and poor health outcomes can lead to a shortage of skilled labor and reduce productivity.\\n*   **Weak Institutions and Governance:** Corruption, political instability, weak rule of law, and inefficient bureaucracies deter investment and distort markets.\\n*   **Access to Finance:** Small and medium-sized enterprises (SMEs), which are crucial for industrial growth, often struggle to access affordable credit.\\n*   **Global Competition:** Developing industries face intense competition from established manufacturers in developed and more advanced emerging economies.\\n*   **\"Middle-Income Trap\":** Some economies struggle to transition from low-cost, labor-intensive manufacturing to higher-value-added production and innovation.\\n*   **Climate Change:** Disruptions to agriculture and natural resources, as well as extreme weather events, can undermine industrial development.\\n*   **Digital Divide:** Lack of access to digital infrastructure and skills can limit participation in the increasingly digital global economy.\\n\\n**4. Regional Variations:**\\n\\n*   **Asia (especially Southeast Asia and South Asia):** Has seen the most dynamic industrial growth, with countries like Vietnam, Bangladesh, Cambodia, and India becoming significant players in manufacturing and services. China\\'s earlier industrialization also created opportunities for its neighbors.\\n*   **Africa:** Industrialization has been slower and more challenging, often dominated by resource extraction. However, some countries (e.g., Ethiopia, Kenya) have made strides in light manufacturing and agro-processing, driven by infrastructure investment and regional integration efforts.\\n*   **Latin America:** Industrial growth varies widely. Some countries have strong manufacturing bases but face challenges with competitiveness, commodity dependence, and political volatility.\\n\\n**5. Recent Trends and Future Outlook:**\\n\\n*   **Impact of COVID-19:** The pandemic caused significant disruptions to global supply chains, impacting industrial production and trade in many poor economies.\\n*   **Automation and AI:** The rise of automation poses a challenge, as it could reduce the competitive advantage of low-wage labor in manufacturing, potentially making it harder for these economies to industrialize using traditional methods.\\n*   **Green Industrialization:** There\\'s growing pressure and opportunity to adopt more sustainable industrial practices, invest in renewable energy, and develop green technologies.\\n*   **Regionalization of Supply Chains:** Some companies are looking to diversify their supply chains away from single dominant producers, which could create new opportunities for smaller economies.\\n*   **Digital Economy:** Growth in digital services, e-commerce, and tech-enabled industries offers new avenues for economic diversification and growth, though it requires significant investment in digital infrastructure and skills.\\n\\nIn summary, the industrial growth of the world\\'s poor economies is a story of **progress against significant odds.** While many have successfully transitioned from agrarian societies to industrializing nations, the path is fraught with challenges related to infrastructure, governance, human capital, and global economic shifts. Continued growth will depend on strategic investments, sound policies, and adaptation to new technologies and environmental imperatives.'"
   ]
  }
 ],
 "metadata": {
  "kernelspec": {
   "display_name": "Python 3",
   "language": "python",
   "name": "python3"
  },
  "language_info": {
   "codemirror_mode": {
    "name": "ipython",
    "version": 3
   },
   "file_extension": ".py",
   "mimetype": "text/x-python",
   "name": "python",
   "nbconvert_exporter": "python",
   "pygments_lexer": "ipython3",
   "version": "3.10.18"
  }
 },
 "nbformat": 4,
 "nbformat_minor": 5
}
